{
 "cells": [
  {
   "cell_type": "markdown",
   "id": "985e6f9b",
   "metadata": {},
   "source": [
    "# PRACTICA 4\n",
    "\n",
    "### Resuelve los siguientes ejercicios"
   ]
  },
  {
   "cell_type": "markdown",
   "id": "28748e51",
   "metadata": {},
   "source": [
    "##### 1.- Abre el fichero dna.txt, guarda una lista del contenido del archivo. Devuelve su longitud y su primer caracter"
   ]
  },
  {
   "cell_type": "code",
   "execution_count": null,
   "id": "88679bbc",
   "metadata": {},
   "outputs": [],
   "source": [
    "list_dna = ['ATC', 'GAT', 'CGA', 'TCG', 'ATC', 'GAC', 'TGA', 'CTA', 'GTC', 'ATA', 'GCT', 'ATG', 'CAT', 'GTA', 'GCT', 'ACT', 'CGA', 'TCG', 'ATC', 'GAT', 'CGA', 'TCG', 'ATC', 'GAT', 'CGA', 'TCG', 'ATC', 'GAT', 'CAT', 'GCT', 'ATC', 'ATC', 'GAT', 'CGA', 'TAT', 'CGA', 'TGC', 'ATC', 'GAC', 'TAC', 'TAT']"
   ]
  },
  {
   "cell_type": "code",
   "execution_count": null,
   "id": "e560fdeb-e56a-40f4-ac32-5f317811b71e",
   "metadata": {},
   "outputs": [],
   "source": [
    "len('list_dna')"
   ]
  },
  {
   "cell_type": "code",
   "execution_count": null,
   "id": "bff6ae6e-c1b4-4908-84a1-808d9846f290",
   "metadata": {},
   "outputs": [],
   "source": [
    "list_dna [0]"
   ]
  },
  {
   "cell_type": "markdown",
   "id": "9b87396a",
   "metadata": {},
   "source": [
    "##### 2.- Crea dos archivos. Uno almacena los accession que empiezen por 'a' y el otro el resto"
   ]
  },
  {
   "cell_type": "code",
   "execution_count": 8,
   "id": "73957856",
   "metadata": {},
   "outputs": [],
   "source": [
    "accs = ['ab56', 'bh84', 'hv76', 'ay93', 'ap97', 'bd72']"
   ]
  },
  {
   "cell_type": "code",
   "execution_count": 10,
   "id": "9129dce1-e421-4120-af13-b7820036ee42",
   "metadata": {
    "scrolled": true
   },
   "outputs": [
    {
     "name": "stdout",
     "output_type": "stream",
     "text": [
      "Accession numbers que empiezan con 'a':\n",
      "ab56\n",
      "ay93\n",
      "ap97\n",
      "\n",
      "Accession numbers que NO empiezan con 'a':\n",
      "bh84\n",
      "hv76\n",
      "bd72\n",
      "\n"
     ]
    }
   ],
   "source": [
    "with open(\"accession_a.txt\", \"w\") as archivo_a, open(\"accession_otros.txt\", \"w\") as archivo_otros:\n",
    "    for accession in accs:\n",
    "        if accession.lower().startswith('a'):  \n",
    "            archivo_a.write(accession + \"\\n\")  \n",
    "        else:\n",
    "            archivo_otros.write(accession + \"\\n\")  \n",
    "\n",
    "print(\"Accession numbers que empiezan con 'a':\")\n",
    "with open(\"accession_a.txt\", \"r\") as archivo_a:\n",
    "    print(archivo_a.read())\n",
    "\n",
    "print(\"Accession numbers que NO empiezan con 'a':\")\n",
    "with open(\"accession_otros.txt\", \"r\") as archivo_otros:\n",
    "    print(archivo_otros.read())"
   ]
  },
  {
   "cell_type": "markdown",
   "id": "9cbb4adf",
   "metadata": {},
   "source": [
    "##### 3.- Imprime solamente los accessions de la lista anterior que empiecen por 'a' y no acaben con '6'. Pista: usa endswith() y startswith()"
   ]
  },
  {
   "cell_type": "code",
   "execution_count": 19,
   "id": "b32ca419",
   "metadata": {
    "scrolled": true
   },
   "outputs": [
    {
     "name": "stdout",
     "output_type": "stream",
     "text": [
      "ay93\n",
      "ap97\n"
     ]
    }
   ],
   "source": [
    "accs = ['ab56', 'bh84', 'hv76', 'ay93', 'ap97', 'bd72']\n",
    "\n",
    "for accession in accs:\n",
    "    if accession.startswith('a') and not accession.endswith('6'):\n",
    "        print(accession)"
   ]
  },
  {
   "cell_type": "markdown",
   "id": "42c397b0",
   "metadata": {},
   "source": [
    "##### 4.- Escribe una función que cuente el porcentaje de A de una secuencia"
   ]
  },
  {
   "cell_type": "code",
   "execution_count": 21,
   "id": "da633510",
   "metadata": {},
   "outputs": [
    {
     "name": "stdout",
     "output_type": "stream",
     "text": [
      "El porcentaje de 'A' es: 26.82926829268293%\n"
     ]
    }
   ],
   "source": [
    "secuencia = \"ATCGATCGATCGATCGACTGACTAGTCATAGCTATGCATGTAGCTACTCGATCGATCGATCGATCGATCGATCGATCGATCGATCATGCTATCATCGATCGATATCGATGCATCGACTACTAT\"\n",
    "def porcentaje_A(secuencia):\n",
    "    num_A = secuencia.count('A')\n",
    "    porcentaje = (num_A / len(secuencia)) * 100\n",
    "    return porcentaje\n",
    "porcentaje = porcentaje_A(secuencia)\n",
    "print(f\"El porcentaje de 'A' es: {porcentaje}%\")"
   ]
  },
  {
   "cell_type": "markdown",
   "id": "054b8f51",
   "metadata": {},
   "source": [
    "##### ¿Puedes hacer que devuelva dos decimales? ¿Y que lidie con mayúsculas y minúsculas?"
   ]
  },
  {
   "cell_type": "code",
   "execution_count": 49,
   "id": "dc1d5907",
   "metadata": {},
   "outputs": [
    {
     "name": "stdout",
     "output_type": "stream",
     "text": [
      "El porcentaje de 'A' es: 26.83%\n"
     ]
    }
   ],
   "source": [
    "def porcentaje_A(secuencia):\n",
    "    secuencia = secuencia.upper()  \n",
    "    \n",
    "    num_A = secuencia.count('A')\n",
    "    \n",
    "    porcentaje = (num_A / len(secuencia)) * 100\n",
    "    return porcentaje\n",
    "\n",
    "secuencia = \"ATCGATCGATCGATCGACTGACTAGTCATAGCTATGCATGTAGCTACTCGATCGATCGATCGATCGATCGATCGATCGATCGATCATGCTATCATCGATCGATATCGATGCATCGACTACTAT\"\n",
    "\n",
    "porcentaje = porcentaje_A(secuencia)\n",
    "print(f\"El porcentaje de 'A' es: {porcentaje:.2f}%\")"
   ]
  },
  {
   "cell_type": "markdown",
   "id": "36a03b5f",
   "metadata": {},
   "source": [
    "##### ¿Y que devuelva el número de decimales que yo quiero?"
   ]
  },
  {
   "cell_type": "code",
   "execution_count": 27,
   "id": "1ac51951",
   "metadata": {},
   "outputs": [
    {
     "name": "stdout",
     "output_type": "stream",
     "text": [
      "El porcentaje de 'A' con el numero de decimales siendo 5 es: 26.82927%\n"
     ]
    }
   ],
   "source": [
    "secuencia = \"ATCGATCGATCGATCGACTGACTAGTCATAGCTATGCATGTAGCTACTCGATCGATCGATCGATCGATCGATCGATCGATCGATCATGCTATCATCGATCGATATCGATGCATCGACTACTAT\"\n",
    "def porcentaje_A(secuencia):\n",
    "    num_A = secuencia.count('A')\n",
    "    porcentaje = (num_A / len(secuencia)) * 100\n",
    "    return porcentaje\n",
    "porcentaje = porcentaje_A(secuencia)\n",
    "resultado = round(porcentaje, 5)\n",
    "print(f\"El porcentaje de 'A' con el numero de decimales siendo 5 es: {resultado}%\")"
   ]
  },
  {
   "cell_type": "markdown",
   "id": "2c811d84",
   "metadata": {},
   "source": [
    "##### ¿Sabes poner un valor por defecto en un argumento?"
   ]
  },
  {
   "cell_type": "code",
   "execution_count": 86,
   "id": "60981086",
   "metadata": {},
   "outputs": [
    {
     "name": "stdout",
     "output_type": "stream",
     "text": [
      "La secuencia por defecto es: ATCGATCGATCGATCGACTGACTAGTCATAGCTATGCATGTAGCTACTCGATCGATCGATCGATCGATCGATCGATCGATCGATCATGCTATCATCGATCGATATCGATGCATCGACTACTAT\n"
     ]
    }
   ],
   "source": [
    "def obtener_secuencia(secuencia=\"ATCGATCGATCGATCGACTGACTAGTCATAGCTATGCATGTAGCTACTCGATCGATCGATCGATCGATCGATCGATCGATCGATCATGCTATCATCGATCGATATCGATGCATCGACTACTAT\"):\n",
    "    return secuencia\n",
    "\n",
    "resultado = obtener_secuencia()\n",
    "print(f\"La secuencia por defecto es: {resultado}\")"
   ]
  },
  {
   "cell_type": "markdown",
   "id": "ab2c106c",
   "metadata": {},
   "source": [
    "##### ¿Qué pasa si no ponemos un argumento? ¿Sabrías hacer una función encapsulada?"
   ]
  },
  {
   "cell_type": "code",
   "execution_count": 88,
   "id": "b155dc1e",
   "metadata": {},
   "outputs": [
    {
     "name": "stdout",
     "output_type": "stream",
     "text": [
      "Secuencia en la función interna: ATCGATCGATCGATCGACTGACTAGTCATAGCTATGCATGTAGCTACTCGATCGATCGATCGATCGATCGATCGATCGATCGATCATGCTATCATCGATCGATATCGATGCATCGACTACTAT\n"
     ]
    }
   ],
   "source": [
    "def funcion_externa():\n",
    "    secuencia = \"ATCGATCGATCGATCGACTGACTAGTCATAGCTATGCATGTAGCTACTCGATCGATCGATCGATCGATCGATCGATCGATCGATCATGCTATCATCGATCGATATCGATGCATCGACTACTAT\"\n",
    "    \n",
    "    def funcion_interna():\n",
    "        return f\"Secuencia en la función interna: {secuencia}\"\n",
    "\n",
    "    return funcion_interna()\n",
    "\n",
    "print(funcion_externa())"
   ]
  },
  {
   "cell_type": "markdown",
   "id": "83af4b0f",
   "metadata": {},
   "source": [
    "##### Testea tu función original con assert"
   ]
  },
  {
   "cell_type": "code",
   "execution_count": 55,
   "id": "2bf31b44",
   "metadata": {},
   "outputs": [
    {
     "name": "stdout",
     "output_type": "stream",
     "text": [
      "El porcentaje de 'A' es: 26.83%\n"
     ]
    }
   ],
   "source": [
    "secuencia = \"ATCGATCGATCGATCGACTGACTAGTCATAGCTATGCATGTAGCTACTCGATCGATCGATCGATCGATCGATCGATCGATCGATCATGCTATCATCGATCGATATCGATGCATCGACTACTAT\"\n",
    "\n",
    "def porcentaje_A(secuencia):\n",
    "    assert len(secuencia) > 0\n",
    "    assert all(base in \"ATCG\" for base in secuencia)\n",
    "    num_A = secuencia.count('A')\n",
    "    porcentaje = (num_A / len(secuencia)) * 100\n",
    "    return porcentaje\n",
    "\n",
    "porcentaje = porcentaje_A(secuencia)\n",
    "print(f\"El porcentaje de 'A' es: {porcentaje:.2f}%\")"
   ]
  },
  {
   "cell_type": "markdown",
   "id": "991abaa2",
   "metadata": {},
   "source": [
    "#### 5.- De la lista de accessions que se proporciona obtén lo siguiente:\n",
    "1. Los que tengan el número 5\n",
    "2. Los que tengan la letra 'd' o la 'e'\n",
    "3. Los que tengan las letras 'd' y 'e' en ese orden\n",
    "4. Los que tengan las letras 'd' y 'e' en ese orden con una letra cualquiera en medio\n",
    "5. Los que tengan ambas letras 'd' y 'e' en cualquier orden\n",
    "6. Los que empiezan por 'x' o por 'y'\n",
    "7. Los que empiezan por 'x' o 'y' y terminan por 'e'\n",
    "8. Los que tienen tres o más dígitos seguidos\n",
    "9. Los que terminan con 'd' seguidos de 'a' o 'r' o 'p'"
   ]
  },
  {
   "cell_type": "code",
   "execution_count": null,
   "id": "6388ac75",
   "metadata": {},
   "outputs": [],
   "source": [
    "import re"
   ]
  },
  {
   "cell_type": "code",
   "execution_count": 7,
   "id": "d00d3ce7",
   "metadata": {},
   "outputs": [],
   "source": [
    "accs = ['xkn59438', 'yhdck2', 'eihd39d9', 'chdsye847', 'hedle3455', 'xjhd53e', '45da', 'de37dp']"
   ]
  },
  {
   "cell_type": "code",
   "execution_count": 9,
   "id": "603ea91c-64e5-47bd-8a40-d295d714cb7f",
   "metadata": {
    "scrolled": true
   },
   "outputs": [
    {
     "data": {
      "text/plain": [
       "['xkn59438', 'hedle3455', 'xjhd53e', '45da']"
      ]
     },
     "execution_count": 9,
     "metadata": {},
     "output_type": "execute_result"
    }
   ],
   "source": [
    "#1\n",
    "valores_con_5 = [acceso for acceso in accs if '5' in acceso]\n",
    "valores_con_5"
   ]
  },
  {
   "cell_type": "code",
   "execution_count": 33,
   "id": "5eedcd9b-4b21-4b80-bb96-59dc43c84b38",
   "metadata": {},
   "outputs": [
    {
     "data": {
      "text/plain": [
       "['eihd39d9', 'chdsye847', 'hedle3455', 'xjhd53e', 'de37dp']"
      ]
     },
     "execution_count": 33,
     "metadata": {},
     "output_type": "execute_result"
    }
   ],
   "source": [
    "#2\n",
    "valores_d = [acceso for acceso in accs if 'd'and 'e' in acceso]\n",
    "valores_d"
   ]
  },
  {
   "cell_type": "code",
   "execution_count": 35,
   "id": "383ee0dd-5a13-4650-ab26-54490ab3de28",
   "metadata": {},
   "outputs": [
    {
     "data": {
      "text/plain": [
       "['de37dp']"
      ]
     },
     "execution_count": 35,
     "metadata": {},
     "output_type": "execute_result"
    }
   ],
   "source": [
    "#3\n",
    "valores_d_e = [acceso for acceso in accs if 'de' in acceso]\n",
    "valores_d_e"
   ]
  },
  {
   "cell_type": "code",
   "execution_count": 41,
   "id": "f770b28c-4012-478c-a8e0-aa200ecb9530",
   "metadata": {},
   "outputs": [
    {
     "name": "stdout",
     "output_type": "stream",
     "text": [
      "['hedle3455']\n"
     ]
    }
   ],
   "source": [
    "#4\n",
    "valores_d_e = [acceso for acceso in accs if re.search(r'd.e', acceso)]\n",
    "print(valores_d_e)\n"
   ]
  },
  {
   "cell_type": "code",
   "execution_count": 43,
   "id": "05ea58ce-873b-424e-ac01-3154b3ff95f7",
   "metadata": {},
   "outputs": [
    {
     "data": {
      "text/plain": [
       "['eihd39d9', 'chdsye847', 'hedle3455', 'xjhd53e', 'de37dp']"
      ]
     },
     "execution_count": 43,
     "metadata": {},
     "output_type": "execute_result"
    }
   ],
   "source": [
    "#5\n",
    "valores_d = [acceso for acceso in accs if 'd'and 'e' in acceso]\n",
    "valores_d"
   ]
  },
  {
   "cell_type": "code",
   "execution_count": 57,
   "id": "2e232534-944c-41e7-a1f4-033da03ff730",
   "metadata": {},
   "outputs": [
    {
     "name": "stdout",
     "output_type": "stream",
     "text": [
      "['xkn59438', 'yhdck2', 'xjhd53e']\n"
     ]
    }
   ],
   "source": [
    "#6\n",
    "import re\n",
    "accs = ['xkn59438', 'yhdck2', 'eihd39d9', 'chdsye847', 'hedle3455', 'xjhd53e', '45da', 'de37dp']\n",
    "accs_xy = [acc for acc in accs if acc.startswith('x') or acc.startswith('y')]\n",
    "print(accs_xy)"
   ]
  },
  {
   "cell_type": "code",
   "execution_count": 47,
   "id": "3eebbb5a-20b8-4977-a2d4-27fe7866de90",
   "metadata": {},
   "outputs": [
    {
     "name": "stdout",
     "output_type": "stream",
     "text": [
      "Accessions filtrados: ['xjhd53e']\n"
     ]
    }
   ],
   "source": [
    "#7\n",
    "def filtrar_accessions(accs):\n",
    "    filtrados = [acc for acc in accs if (acc.startswith('x') or acc.startswith('y')) and acc.endswith('e')]\n",
    "    return filtrados\n",
    "\n",
    "resultados = filtrar_accessions(accs)\n",
    "\n",
    "print(\"Accessions filtrados:\", resultados)"
   ]
  },
  {
   "cell_type": "code",
   "execution_count": 61,
   "id": "a08ace69-aee1-4700-b8f5-32927bd47eb3",
   "metadata": {},
   "outputs": [
    {
     "name": "stdout",
     "output_type": "stream",
     "text": [
      "['xkn59438', 'chdsye847', 'hedle3455']\n"
     ]
    }
   ],
   "source": [
    "#8\n",
    "import re\n",
    "accs = ['xkn59438', 'yhdck2', 'eihd39d9', 'chdsye847', 'hedle3455', 'xjhd53e', '45da', 'de37dp']\n",
    "accs_tres_digitos = [acc for acc in accs if re.search(r'\\d{3,}', acc)]\n",
    "print(accs_tres_digitos)"
   ]
  },
  {
   "cell_type": "code",
   "execution_count": 59,
   "id": "614f9e20-0c24-442e-8d23-fba83b83621c",
   "metadata": {},
   "outputs": [
    {
     "name": "stdout",
     "output_type": "stream",
     "text": [
      "['45da', 'de37dp']\n"
     ]
    }
   ],
   "source": [
    "#9\n",
    "accs = ['xkn59438', 'yhdck2', 'eihd39d9', 'chdsye847', 'hedle3455', 'xjhd53e', '45da', 'de37dp']\n",
    "accs_d_followed = [acc for acc in accs if acc.endswith('da') or acc.endswith('dr') or acc.endswith('dp')]\n",
    "print(accs_d_followed)"
   ]
  },
  {
   "cell_type": "code",
   "execution_count": null,
   "id": "9c489756-d04e-4a85-863e-fd730d63ce4a",
   "metadata": {},
   "outputs": [],
   "source": []
  }
 ],
 "metadata": {
  "kernelspec": {
   "display_name": "Python 3 (ipykernel)",
   "language": "python",
   "name": "python3"
  },
  "language_info": {
   "codemirror_mode": {
    "name": "ipython",
    "version": 3
   },
   "file_extension": ".py",
   "mimetype": "text/x-python",
   "name": "python",
   "nbconvert_exporter": "python",
   "pygments_lexer": "ipython3",
   "version": "3.12.4"
  }
 },
 "nbformat": 4,
 "nbformat_minor": 5
}
