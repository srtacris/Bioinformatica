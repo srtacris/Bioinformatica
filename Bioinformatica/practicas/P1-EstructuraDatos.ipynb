{
 "cells": [
  {
   "cell_type": "markdown",
   "id": "57e5a4ba",
   "metadata": {},
   "source": [
    "# PRACTICA 1 Estructuras de Datos\n",
    "\n",
    "### Resuelve las siguientes preguntas empleando lo aprendido con las estructuras de Datos"
   ]
  },
  {
   "cell_type": "markdown",
   "id": "092831f1",
   "metadata": {},
   "source": [
    "Pon el código debajo de cada pregunta. Añade tantas celdas de código como necesites."
   ]
  },
  {
   "cell_type": "markdown",
   "id": "94b6abb8",
   "metadata": {},
   "source": [
    "#### 1.- Escribe una ecuación que emplee multiplicación, división, un exponente, suma y resta y que sea igual a 100.25."
   ]
  },
  {
   "cell_type": "code",
   "execution_count": 45,
   "id": "40664bdc-d27d-498f-9376-235624dbfe0c",
   "metadata": {},
   "outputs": [
    {
     "data": {
      "text/plain": [
       "100.25"
      ]
     },
     "execution_count": 45,
     "metadata": {},
     "output_type": "execute_result"
    }
   ],
   "source": [
    "((5**2*4)/2)*2+0.25"
   ]
  },
  {
   "cell_type": "markdown",
   "id": "95ec00dc",
   "metadata": {},
   "source": [
    "#### 2.- ¿Qué harías para obtener la raíz cuadrada de 100?"
   ]
  },
  {
   "cell_type": "code",
   "execution_count": 19,
   "id": "d1476ef0",
   "metadata": {},
   "outputs": [
    {
     "data": {
      "text/plain": [
       "10.0"
      ]
     },
     "execution_count": 19,
     "metadata": {},
     "output_type": "execute_result"
    }
   ],
   "source": [
    "100**(1/2)"
   ]
  },
  {
   "cell_type": "markdown",
   "id": "95232620",
   "metadata": {},
   "source": [
    "#### 3.- ¿Y el cuadrado de 100?"
   ]
  },
  {
   "cell_type": "code",
   "execution_count": 21,
   "id": "14249667",
   "metadata": {},
   "outputs": [
    {
     "data": {
      "text/plain": [
       "10000"
      ]
     },
     "execution_count": 21,
     "metadata": {},
     "output_type": "execute_result"
    }
   ],
   "source": [
    "100**2"
   ]
  },
  {
   "cell_type": "markdown",
   "id": "7fc5bfae",
   "metadata": {},
   "source": [
    "#### 4.- Tenemos la string 'hello'.\n",
    "#### Primero devuelve la letra 'e'\n",
    "#### Luego dale la vuelta a la string \n",
    "#### Después usa dos métodos para devolver la letra 'o'"
   ]
  },
  {
   "cell_type": "code",
   "execution_count": 31,
   "id": "a6d0eb90",
   "metadata": {},
   "outputs": [],
   "source": [
    "s = 'hello'"
   ]
  },
  {
   "cell_type": "code",
   "execution_count": 33,
   "id": "cb7654ac-a654-4e65-84f5-1d39529eb75d",
   "metadata": {},
   "outputs": [
    {
     "data": {
      "text/plain": [
       "'e'"
      ]
     },
     "execution_count": 33,
     "metadata": {},
     "output_type": "execute_result"
    }
   ],
   "source": [
    "s[1]"
   ]
  },
  {
   "cell_type": "code",
   "execution_count": 37,
   "id": "ed4f1e05-fc72-4bc4-afb0-ec99f053d53a",
   "metadata": {},
   "outputs": [
    {
     "data": {
      "text/plain": [
       "'olleh'"
      ]
     },
     "execution_count": 37,
     "metadata": {},
     "output_type": "execute_result"
    }
   ],
   "source": [
    "s[::-1]"
   ]
  },
  {
   "cell_type": "code",
   "execution_count": 39,
   "id": "2e0b783a-18b8-4422-accf-6d59228f4bee",
   "metadata": {},
   "outputs": [
    {
     "data": {
      "text/plain": [
       "'o'"
      ]
     },
     "execution_count": 39,
     "metadata": {},
     "output_type": "execute_result"
    }
   ],
   "source": [
    "s[4]"
   ]
  },
  {
   "cell_type": "code",
   "execution_count": 43,
   "id": "d471a159-e438-482d-9aa7-19d370589fcc",
   "metadata": {},
   "outputs": [
    {
     "data": {
      "text/plain": [
       "'o'"
      ]
     },
     "execution_count": 43,
     "metadata": {},
     "output_type": "execute_result"
    }
   ],
   "source": [
    "s[-1]"
   ]
  },
  {
   "cell_type": "markdown",
   "id": "0febc918",
   "metadata": {},
   "source": [
    "#### 5.- Crear una lista que contenga esto [0,0,0] de dos formas distintas"
   ]
  },
  {
   "cell_type": "code",
   "execution_count": 59,
   "id": "30981b24",
   "metadata": {},
   "outputs": [],
   "source": [
    "list=[0,0,0]"
   ]
  },
  {
   "cell_type": "code",
   "execution_count": 61,
   "id": "71ed2218-dcad-4427-8ccc-4f95230bb60f",
   "metadata": {},
   "outputs": [
    {
     "data": {
      "text/plain": [
       "[0, 0, 0]"
      ]
     },
     "execution_count": 61,
     "metadata": {},
     "output_type": "execute_result"
    }
   ],
   "source": [
    "list"
   ]
  },
  {
   "cell_type": "code",
   "execution_count": 65,
   "id": "f6e97f28-6a8a-499f-912d-ad416dff19b8",
   "metadata": {},
   "outputs": [
    {
     "data": {
      "text/plain": [
       "[0, 0, 0]"
      ]
     },
     "execution_count": 65,
     "metadata": {},
     "output_type": "execute_result"
    }
   ],
   "source": [
    "list_1=[2,3,2]\n",
    "list_2=[0,0,0]\n",
    "list_3=[0,3,6]\n",
    "\n",
    "matrix = [list_1, list_2, list_3]\n",
    "matrix\n",
    "matrix[1]"
   ]
  },
  {
   "cell_type": "code",
   "execution_count": 71,
   "id": "3b27f86d-b2a5-409c-814f-f802f40f5369",
   "metadata": {},
   "outputs": [
    {
     "name": "stdout",
     "output_type": "stream",
     "text": [
      "(0, 0, 0)\n"
     ]
    }
   ],
   "source": [
    "t = (0,0,0)\n",
    "print(t)"
   ]
  },
  {
   "cell_type": "markdown",
   "id": "80e1a951",
   "metadata": {},
   "source": [
    "#### 6.- Reasigna 'hello' en la lista a continuación para que diga 'goodbye'"
   ]
  },
  {
   "cell_type": "code",
   "execution_count": 93,
   "id": "20d1ebdf",
   "metadata": {},
   "outputs": [],
   "source": [
    "lista = [1,2,[3,4,'hello']]"
   ]
  },
  {
   "cell_type": "code",
   "execution_count": 97,
   "id": "6c7da3bc-301d-4d2c-bce0-b87d20ac721c",
   "metadata": {},
   "outputs": [
    {
     "name": "stdout",
     "output_type": "stream",
     "text": [
      "[1, 2, [3, 4, 'goodbye']]\n"
     ]
    }
   ],
   "source": [
    "lista[2][2] = 'goodbye'\n",
    "print(lista)"
   ]
  },
  {
   "cell_type": "markdown",
   "id": "77e38490",
   "metadata": {},
   "source": [
    "#### 7.- Ordena la siguiente lista"
   ]
  },
  {
   "cell_type": "code",
   "execution_count": 83,
   "id": "bc957d55",
   "metadata": {},
   "outputs": [],
   "source": [
    "listaSinOrdenar = [5,3,4,6,1]"
   ]
  },
  {
   "cell_type": "code",
   "execution_count": 87,
   "id": "e2c2fb65",
   "metadata": {},
   "outputs": [
    {
     "name": "stdout",
     "output_type": "stream",
     "text": [
      "[1, 3, 4, 5, 6]\n"
     ]
    }
   ],
   "source": [
    "listaSinOrdenar.sort()\n",
    "print(listaSinOrdenar)"
   ]
  },
  {
   "cell_type": "markdown",
   "id": "0cc790ac",
   "metadata": {},
   "source": [
    "#### 8.- En los siguientes diccionarios, extrae el valor de 'hello'"
   ]
  },
  {
   "cell_type": "code",
   "execution_count": 137,
   "id": "c390a0bb",
   "metadata": {},
   "outputs": [
    {
     "data": {
      "text/plain": [
       "{'k1': {'k2': 'hello'}}"
      ]
     },
     "execution_count": 137,
     "metadata": {},
     "output_type": "execute_result"
    }
   ],
   "source": [
    "f = {'k1':{'k2':'hello'}}\n",
    "f"
   ]
  },
  {
   "cell_type": "code",
   "execution_count": 141,
   "id": "63df513f-8f13-47a7-a8fd-a3a5189a8e8d",
   "metadata": {},
   "outputs": [
    {
     "data": {
      "text/plain": [
       "{'k2': 'hello'}"
      ]
     },
     "execution_count": 141,
     "metadata": {},
     "output_type": "execute_result"
    }
   ],
   "source": [
    "f['k1']"
   ]
  },
  {
   "cell_type": "code",
   "execution_count": 155,
   "id": "a654d540-02de-4f8e-9a3d-833e4aa6e4cc",
   "metadata": {},
   "outputs": [
    {
     "name": "stdout",
     "output_type": "stream",
     "text": [
      "hello\n"
     ]
    }
   ],
   "source": [
    "valor_hello = f['k1']['k2']\n",
    "print(valor_hello)"
   ]
  },
  {
   "cell_type": "code",
   "execution_count": 157,
   "id": "c0244e1f",
   "metadata": {},
   "outputs": [
    {
     "data": {
      "text/plain": [
       "{'key1': 'hello'}"
      ]
     },
     "execution_count": 157,
     "metadata": {},
     "output_type": "execute_result"
    }
   ],
   "source": [
    "d = {'key1':'hello'}\n",
    "d"
   ]
  },
  {
   "cell_type": "code",
   "execution_count": 161,
   "id": "196ef04c",
   "metadata": {},
   "outputs": [
    {
     "data": {
      "text/plain": [
       "'hello'"
      ]
     },
     "execution_count": 161,
     "metadata": {},
     "output_type": "execute_result"
    }
   ],
   "source": [
    "d['key1']"
   ]
  },
  {
   "cell_type": "code",
   "execution_count": 163,
   "id": "344d780b",
   "metadata": {},
   "outputs": [],
   "source": [
    "g = {'k1':[{'o1':['valor escondido',['hello']]}]}"
   ]
  },
  {
   "cell_type": "code",
   "execution_count": 165,
   "id": "e965a858",
   "metadata": {},
   "outputs": [
    {
     "name": "stdout",
     "output_type": "stream",
     "text": [
      "hello\n"
     ]
    }
   ],
   "source": [
    "valor_hello = g['k1'][0]['o1'][1][0]\n",
    "print(valor_hello)"
   ]
  },
  {
   "cell_type": "code",
   "execution_count": 167,
   "id": "663f9ffd",
   "metadata": {},
   "outputs": [],
   "source": [
    "h = {'k1':[1,2,{'k2':['complicado',{'dificil':[1,2,['hello']]}]}]}"
   ]
  },
  {
   "cell_type": "code",
   "execution_count": 169,
   "id": "9b9d7d97",
   "metadata": {},
   "outputs": [
    {
     "name": "stdout",
     "output_type": "stream",
     "text": [
      "hello\n"
     ]
    }
   ],
   "source": [
    "valor_hello = h['k1'][2]['k2'][1]['dificil'][2][0]\n",
    "print(valor_hello)"
   ]
  },
  {
   "cell_type": "markdown",
   "id": "7692eea8",
   "metadata": {},
   "source": [
    "#### 9.- Crea una tupla"
   ]
  },
  {
   "cell_type": "code",
   "execution_count": 101,
   "id": "23886da1",
   "metadata": {},
   "outputs": [
    {
     "name": "stdout",
     "output_type": "stream",
     "text": [
      "(10, 9, 3, 'a', 'b', 'c')\n"
     ]
    }
   ],
   "source": [
    "tupla = (10, 9, 3, 'a', 'b', 'c')\n",
    "print(tupla)"
   ]
  },
  {
   "cell_type": "markdown",
   "id": "6231d723",
   "metadata": {},
   "source": [
    "#### 10.- Emplea los sets para encontrar los valores únicos de esta lista"
   ]
  },
  {
   "cell_type": "code",
   "execution_count": null,
   "id": "a7cbba3a",
   "metadata": {},
   "outputs": [],
   "source": [
    "listaDuplicada = [1,2,2,33,4,4,11,22,3,3,2]"
   ]
  },
  {
   "cell_type": "code",
   "execution_count": 107,
   "id": "71da8284",
   "metadata": {},
   "outputs": [
    {
     "name": "stdout",
     "output_type": "stream",
     "text": [
      "{'l', 't', 'i', 's', 'd', 'c', 'a', 'D', 'u', 'p'}\n"
     ]
    }
   ],
   "source": [
    "valoresunicos = set('listaDuplicada')\n",
    "print(valoresunicos)"
   ]
  },
  {
   "cell_type": "markdown",
   "id": "9b217cfc",
   "metadata": {},
   "source": [
    "#### 11.- Haz las siguientes comparaciones:\n",
    "#### Dos mayor que tres\n",
    "#### Tres igual que 2\n",
    "#### La raíz cuadrada de cuatro no es igual a 2"
   ]
  },
  {
   "cell_type": "code",
   "execution_count": 109,
   "id": "59b70e21",
   "metadata": {},
   "outputs": [
    {
     "data": {
      "text/plain": [
       "False"
      ]
     },
     "execution_count": 109,
     "metadata": {},
     "output_type": "execute_result"
    }
   ],
   "source": [
    "# 2 mayor que 3\n",
    "2>3"
   ]
  },
  {
   "cell_type": "code",
   "execution_count": 111,
   "id": "89985eaf",
   "metadata": {},
   "outputs": [
    {
     "data": {
      "text/plain": [
       "False"
      ]
     },
     "execution_count": 111,
     "metadata": {},
     "output_type": "execute_result"
    }
   ],
   "source": [
    "# 3 igual que 2\n",
    "3==2"
   ]
  },
  {
   "cell_type": "code",
   "execution_count": 115,
   "id": "16c4febf",
   "metadata": {},
   "outputs": [
    {
     "data": {
      "text/plain": [
       "False"
      ]
     },
     "execution_count": 115,
     "metadata": {},
     "output_type": "execute_result"
    }
   ],
   "source": [
    "# raíz cuadrada de 4 no es igual a 2\n",
    "4**(1/2)!=2"
   ]
  }
 ],
 "metadata": {
  "kernelspec": {
   "display_name": "Python 3 (ipykernel)",
   "language": "python",
   "name": "python3"
  },
  "language_info": {
   "codemirror_mode": {
    "name": "ipython",
    "version": 3
   },
   "file_extension": ".py",
   "mimetype": "text/x-python",
   "name": "python",
   "nbconvert_exporter": "python",
   "pygments_lexer": "ipython3",
   "version": "3.12.4"
  }
 },
 "nbformat": 4,
 "nbformat_minor": 5
}
