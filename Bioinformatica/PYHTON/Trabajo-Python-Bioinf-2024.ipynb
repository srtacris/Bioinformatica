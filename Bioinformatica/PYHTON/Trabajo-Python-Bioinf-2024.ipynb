{
 "cells": [
  {
   "cell_type": "markdown",
   "id": "eaebb484",
   "metadata": {},
   "source": [
    "# TRABAJO DE PYTHON\n",
    "\n",
    "### Este trabajo cuenta el 30% de la nota. \n",
    "\n",
    "### Resuelve los siguientes ejercicios en Python\n",
    "\n",
    "#### Utiliza tantas celdas de código como necesites"
   ]
  },
  {
   "cell_type": "markdown",
   "id": "98d4d480",
   "metadata": {},
   "source": [
    "#### 1.- Carga el archivo *\"archivo.txt\"* en este Jupyter Notebook y guarda su contenido en una lista. (1 pto)"
   ]
  },
  {
   "cell_type": "code",
   "execution_count": 11,
   "id": "f6b21b23",
   "metadata": {},
   "outputs": [],
   "source": [
    " mi_archivo=open('archivo.txt')"
   ]
  },
  {
   "cell_type": "code",
   "execution_count": 13,
   "id": "5b2f0f59-d975-4bba-83d8-5f66841b0c9d",
   "metadata": {},
   "outputs": [
    {
     "data": {
      "text/plain": [
       "['>CP043953.1 Acinetobacter baumannii strain K09-14 chromosome, complete genome\\n',\n",
       " 'ATGCTTTGGACAGACTGCTTAACTCGCTTGCGACAAGAGCTCTCTGATAACGTCTTTGCGATGTGGATTCGCCCTTTAGTAGCTGAAGAAGTAGAGGGGATACTACGTCTCTATGCTCCTAATCCTTATTGGACGCGTTATATTCAAGAGAATCATTTAGAGTTAATTTCTATATTGGCTGAACAATTGTCAGAAGGGCGGGTGCGTCAGGTTGAAATCTTGGTAGATTCTCGTCCTGGTAGTATTTTGTCTTCTAGTGAACAGCCTGCAACAACTACAGCAGCTTTACAAACTGCCCCTATACCTCAACCTGCTAAGGTTAAAAGAGAACCGGAACCTGTTGCTAATACTGCAGTTAGTTCTAAGAGTTCAAAAAAGAAACTATTAAATCCACAATTTACTTTTTCACTATTTGTTGAAGGCCGTTCTAACCAAATGGCAGCAGAAACCTGTAGAAAAGTATTAACACAGTTAGGTGCTTCTCAACATAACCCTTTGTTTTTATATGGTCCGACAGGTCTAGGTAAGACTCACTTAATGCAAGCAGTTGGTAATGCCCTACTGCAAGCGAAGCCGAATGCAAGAGTCATGTATATGACTTCAGAAAGTTTTGTACAAGATTTTGTGAGCTCATTACAAAAAGGAAAGGTAGAAGAGTTTAAGAAAAATTGCCGTTCTTTAGACTTGTTATTAGTAGATGATATTCATCTTTTGGCAGGAAAAGAAGCAAGTCTCGTTGAATTCTTCTATACATTTAATGCCTTACTTGATGAATCTAAACAAATTATTTTAACGTCTGATCGATATCCTAAAGAATTAACAGAACTTGATCCTCGATTGGTTTCTCGTTTTTCCTGGGGGCTATCAGTAGGTGTTGAACCACCTGATATTGAAACTCGAATCGAAATTCTGCTTAAAAAAGCTGAAAATAGTGGCGTTGATTTACCTAGAAACTGTGCGTTGTTTATTGCCCAACAAGTCGTAGCGAACGTACGTGAACTTGAGGGCGCACTGAATAAAGTTGTCGCAATTTCACGTTTTAAAGGTGCTCCAATTGACCTGGATGTCGTACGGGAATCTTTAAAAGATGTTTTAGCGATCCGTGCTCGTACAATTAGTGTAGAAAATATCCAGCGTGTAGTGAGTGAATATTTCCGAATTCCATTAAAAGAGCTGGTAGGTCCAAAGCGTACCCGAATTTATGCTCGACCACGTCAGTTGGCGATGGGGCTTGCCCGTGAATTAACGGGGGATAGTTTTCCTGAAATTGGAATGGCTTTTGGTGGGCGTGATCACAGTACAGTGATGCATGCTTGTGAAAAAGTCGTC']"
      ]
     },
     "execution_count": 13,
     "metadata": {},
     "output_type": "execute_result"
    }
   ],
   "source": [
    " mi_archivo.readlines()"
   ]
  },
  {
   "cell_type": "code",
   "execution_count": 15,
   "id": "f6f234a5-7304-409c-a400-950cd7846be8",
   "metadata": {},
   "outputs": [],
   "source": [
    "mi_archivo.seek(0)\n",
    "mi_lista = mi_archivo.readlines()"
   ]
  },
  {
   "cell_type": "code",
   "execution_count": 17,
   "id": "a116d66e-a5e5-44fd-950f-3ca111683b06",
   "metadata": {},
   "outputs": [
    {
     "data": {
      "text/plain": [
       "['>CP043953.1 Acinetobacter baumannii strain K09-14 chromosome, complete genome\\n',\n",
       " 'ATGCTTTGGACAGACTGCTTAACTCGCTTGCGACAAGAGCTCTCTGATAACGTCTTTGCGATGTGGATTCGCCCTTTAGTAGCTGAAGAAGTAGAGGGGATACTACGTCTCTATGCTCCTAATCCTTATTGGACGCGTTATATTCAAGAGAATCATTTAGAGTTAATTTCTATATTGGCTGAACAATTGTCAGAAGGGCGGGTGCGTCAGGTTGAAATCTTGGTAGATTCTCGTCCTGGTAGTATTTTGTCTTCTAGTGAACAGCCTGCAACAACTACAGCAGCTTTACAAACTGCCCCTATACCTCAACCTGCTAAGGTTAAAAGAGAACCGGAACCTGTTGCTAATACTGCAGTTAGTTCTAAGAGTTCAAAAAAGAAACTATTAAATCCACAATTTACTTTTTCACTATTTGTTGAAGGCCGTTCTAACCAAATGGCAGCAGAAACCTGTAGAAAAGTATTAACACAGTTAGGTGCTTCTCAACATAACCCTTTGTTTTTATATGGTCCGACAGGTCTAGGTAAGACTCACTTAATGCAAGCAGTTGGTAATGCCCTACTGCAAGCGAAGCCGAATGCAAGAGTCATGTATATGACTTCAGAAAGTTTTGTACAAGATTTTGTGAGCTCATTACAAAAAGGAAAGGTAGAAGAGTTTAAGAAAAATTGCCGTTCTTTAGACTTGTTATTAGTAGATGATATTCATCTTTTGGCAGGAAAAGAAGCAAGTCTCGTTGAATTCTTCTATACATTTAATGCCTTACTTGATGAATCTAAACAAATTATTTTAACGTCTGATCGATATCCTAAAGAATTAACAGAACTTGATCCTCGATTGGTTTCTCGTTTTTCCTGGGGGCTATCAGTAGGTGTTGAACCACCTGATATTGAAACTCGAATCGAAATTCTGCTTAAAAAAGCTGAAAATAGTGGCGTTGATTTACCTAGAAACTGTGCGTTGTTTATTGCCCAACAAGTCGTAGCGAACGTACGTGAACTTGAGGGCGCACTGAATAAAGTTGTCGCAATTTCACGTTTTAAAGGTGCTCCAATTGACCTGGATGTCGTACGGGAATCTTTAAAAGATGTTTTAGCGATCCGTGCTCGTACAATTAGTGTAGAAAATATCCAGCGTGTAGTGAGTGAATATTTCCGAATTCCATTAAAAGAGCTGGTAGGTCCAAAGCGTACCCGAATTTATGCTCGACCACGTCAGTTGGCGATGGGGCTTGCCCGTGAATTAACGGGGGATAGTTTTCCTGAAATTGGAATGGCTTTTGGTGGGCGTGATCACAGTACAGTGATGCATGCTTGTGAAAAAGTCGTC']"
      ]
     },
     "execution_count": 17,
     "metadata": {},
     "output_type": "execute_result"
    }
   ],
   "source": [
    "mi_lista"
   ]
  },
  {
   "cell_type": "markdown",
   "id": "400fa3f1",
   "metadata": {},
   "source": [
    "#### 2.- Muestre el encabezado y la secuencia y guarde cada uno en variables separadas. Elimine el elemento \"\\n\" del encabezado con replace(). ¿Cual es la longitud de la secuencia?. (1 pto)"
   ]
  },
  {
   "cell_type": "code",
   "execution_count": 20,
   "id": "154b42b2",
   "metadata": {},
   "outputs": [
    {
     "data": {
      "text/plain": [
       "'>CP043953.1 Acinetobacter baumannii strain K09-14 chromosome, complete genome\\n'"
      ]
     },
     "execution_count": 20,
     "metadata": {},
     "output_type": "execute_result"
    }
   ],
   "source": [
    "mi_lista [0]\n",
    "encabezado = mi_lista [0]\n",
    "encabezado"
   ]
  },
  {
   "cell_type": "code",
   "execution_count": 22,
   "id": "1d5253de-f2ed-499b-a6f3-21e2e18c340a",
   "metadata": {},
   "outputs": [
    {
     "data": {
      "text/plain": [
       "'>CP043953.1 Acinetobacter baumannii strain K09-14 chromosome, complete genome '"
      ]
     },
     "execution_count": 22,
     "metadata": {},
     "output_type": "execute_result"
    }
   ],
   "source": [
    "encabezado\n",
    "encabezado.replace(\"\\n\", \" \")"
   ]
  },
  {
   "cell_type": "code",
   "execution_count": 24,
   "id": "b352e754-59c4-462b-9d3c-85f064d0f4cd",
   "metadata": {},
   "outputs": [
    {
     "data": {
      "text/plain": [
       "'ATGCTTTGGACAGACTGCTTAACTCGCTTGCGACAAGAGCTCTCTGATAACGTCTTTGCGATGTGGATTCGCCCTTTAGTAGCTGAAGAAGTAGAGGGGATACTACGTCTCTATGCTCCTAATCCTTATTGGACGCGTTATATTCAAGAGAATCATTTAGAGTTAATTTCTATATTGGCTGAACAATTGTCAGAAGGGCGGGTGCGTCAGGTTGAAATCTTGGTAGATTCTCGTCCTGGTAGTATTTTGTCTTCTAGTGAACAGCCTGCAACAACTACAGCAGCTTTACAAACTGCCCCTATACCTCAACCTGCTAAGGTTAAAAGAGAACCGGAACCTGTTGCTAATACTGCAGTTAGTTCTAAGAGTTCAAAAAAGAAACTATTAAATCCACAATTTACTTTTTCACTATTTGTTGAAGGCCGTTCTAACCAAATGGCAGCAGAAACCTGTAGAAAAGTATTAACACAGTTAGGTGCTTCTCAACATAACCCTTTGTTTTTATATGGTCCGACAGGTCTAGGTAAGACTCACTTAATGCAAGCAGTTGGTAATGCCCTACTGCAAGCGAAGCCGAATGCAAGAGTCATGTATATGACTTCAGAAAGTTTTGTACAAGATTTTGTGAGCTCATTACAAAAAGGAAAGGTAGAAGAGTTTAAGAAAAATTGCCGTTCTTTAGACTTGTTATTAGTAGATGATATTCATCTTTTGGCAGGAAAAGAAGCAAGTCTCGTTGAATTCTTCTATACATTTAATGCCTTACTTGATGAATCTAAACAAATTATTTTAACGTCTGATCGATATCCTAAAGAATTAACAGAACTTGATCCTCGATTGGTTTCTCGTTTTTCCTGGGGGCTATCAGTAGGTGTTGAACCACCTGATATTGAAACTCGAATCGAAATTCTGCTTAAAAAAGCTGAAAATAGTGGCGTTGATTTACCTAGAAACTGTGCGTTGTTTATTGCCCAACAAGTCGTAGCGAACGTACGTGAACTTGAGGGCGCACTGAATAAAGTTGTCGCAATTTCACGTTTTAAAGGTGCTCCAATTGACCTGGATGTCGTACGGGAATCTTTAAAAGATGTTTTAGCGATCCGTGCTCGTACAATTAGTGTAGAAAATATCCAGCGTGTAGTGAGTGAATATTTCCGAATTCCATTAAAAGAGCTGGTAGGTCCAAAGCGTACCCGAATTTATGCTCGACCACGTCAGTTGGCGATGGGGCTTGCCCGTGAATTAACGGGGGATAGTTTTCCTGAAATTGGAATGGCTTTTGGTGGGCGTGATCACAGTACAGTGATGCATGCTTGTGAAAAAGTCGTC'"
      ]
     },
     "execution_count": 24,
     "metadata": {},
     "output_type": "execute_result"
    }
   ],
   "source": [
    "mi_lista [1]\n",
    "secuencia = mi_lista [1]\n",
    "secuencia"
   ]
  },
  {
   "cell_type": "code",
   "execution_count": 26,
   "id": "b5e3be1a-02cd-4a84-a4b5-c5cb8e2ef2e6",
   "metadata": {},
   "outputs": [
    {
     "data": {
      "text/plain": [
       "1329"
      ]
     },
     "execution_count": 26,
     "metadata": {},
     "output_type": "execute_result"
    }
   ],
   "source": [
    "len(secuencia)"
   ]
  },
  {
   "cell_type": "markdown",
   "id": "36b8c00d",
   "metadata": {},
   "source": [
    "#### 3.- Para el encabezado, extrae empleando expresiones regulares el identificador. (1pto)"
   ]
  },
  {
   "cell_type": "code",
   "execution_count": 29,
   "id": "d845bb81",
   "metadata": {},
   "outputs": [
    {
     "name": "stdout",
     "output_type": "stream",
     "text": [
      ">CP043953.1\n"
     ]
    }
   ],
   "source": [
    "import re\n",
    "encabezado = \">CP043953.1 Acinetobacter baumannii strain K09-14 chromosome, complete genome\"\n",
    "m = re.search(r\">CP043953.1\", encabezado)\n",
    "m_pattern = m.group()\n",
    "print(m_pattern)"
   ]
  },
  {
   "cell_type": "markdown",
   "id": "f38fdda0",
   "metadata": {},
   "source": [
    "#### 4.- Para la secuencia, haz un algoritmo que vaya sumando el numero de adeninas (A) y timinas (T) segun vaya iterando por la secuencia. El numero total de adeninas y timinas deberia guardarse en una misma variable. (1 pto)"
   ]
  },
  {
   "cell_type": "code",
   "execution_count": 32,
   "id": "2914b1f2",
   "metadata": {},
   "outputs": [
    {
     "name": "stdout",
     "output_type": "stream",
     "text": [
      "Aparecen 388 A\n"
     ]
    }
   ],
   "source": [
    "secuencia = 'ATGCTTTGGACAGACTGCTTAACTCGCTTGCGACAAGAGCTCTCTGATAACGTCTTTGCGATGTGGATTCGCCCTTTAGTAGCTGAAGAAGTAGAGGGGATACTACGTCTCTATGCTCCTAATCCTTATTGGACGCGTTATATTCAAGAGAATCATTTAGAGTTAATTTCTATATTGGCTGAACAATTGTCAGAAGGGCGGGTGCGTCAGGTTGAAATCTTGGTAGATTCTCGTCCTGGTAGTATTTTGTCTTCTAGTGAACAGCCTGCAACAACTACAGCAGCTTTACAAACTGCCCCTATACCTCAACCTGCTAAGGTTAAAAGAGAACCGGAACCTGTTGCTAATACTGCAGTTAGTTCTAAGAGTTCAAAAAAGAAACTATTAAATCCACAATTTACTTTTTCACTATTTGTTGAAGGCCGTTCTAACCAAATGGCAGCAGAAACCTGTAGAAAAGTATTAACACAGTTAGGTGCTTCTCAACATAACCCTTTGTTTTTATATGGTCCGACAGGTCTAGGTAAGACTCACTTAATGCAAGCAGTTGGTAATGCCCTACTGCAAGCGAAGCCGAATGCAAGAGTCATGTATATGACTTCAGAAAGTTTTGTACAAGATTTTGTGAGCTCATTACAAAAAGGAAAGGTAGAAGAGTTTAAGAAAAATTGCCGTTCTTTAGACTTGTTATTAGTAGATGATATTCATCTTTTGGCAGGAAAAGAAGCAAGTCTCGTTGAATTCTTCTATACATTTAATGCCTTACTTGATGAATCTAAACAAATTATTTTAACGTCTGATCGATATCCTAAAGAATTAACAGAACTTGATCCTCGATTGGTTTCTCGTTTTTCCTGGGGGCTATCAGTAGGTGTTGAACCACCTGATATTGAAACTCGAATCGAAATTCTGCTTAAAAAAGCTGAAAATAGTGGCGTTGATTTACCTAGAAACTGTGCGTTGTTTATTGCCCAACAAGTCGTAGCGAACGTACGTGAACTTGAGGGCGCACTGAATAAAGTTGTCGCAATTTCACGTTTTAAAGGTGCTCCAATTGACCTGGATGTCGTACGGGAATCTTTAAAAGATGTTTTAGCGATCCGTGCTCGTACAATTAGTGTAGAAAATATCCAGCGTGTAGTGAGTGAATATTTCCGAATTCCATTAAAAGAGCTGGTAGGTCCAAAGCGTACCCGAATTTATGCTCGACCACGTCAGTTGGCGATGGGGCTTGCCCGTGAATTAACGGGGGATAGTTTTCCTGAAATTGGAATGGCTTTTGGTGGGCGTGATCACAGTACAGTGATGCATGCTTGTGAAAAAGTCGTC'\n",
    "\n",
    "conteo_a = secuencia.count('A')\n",
    "print(f\"Aparecen {conteo_a} A\")"
   ]
  },
  {
   "cell_type": "code",
   "execution_count": 34,
   "id": "95ae60c0-3cda-4383-9ea9-9ade5078d5a1",
   "metadata": {},
   "outputs": [
    {
     "name": "stdout",
     "output_type": "stream",
     "text": [
      "Aparecen 405 T\n"
     ]
    }
   ],
   "source": [
    "secuencia = 'ATGCTTTGGACAGACTGCTTAACTCGCTTGCGACAAGAGCTCTCTGATAACGTCTTTGCGATGTGGATTCGCCCTTTAGTAGCTGAAGAAGTAGAGGGGATACTACGTCTCTATGCTCCTAATCCTTATTGGACGCGTTATATTCAAGAGAATCATTTAGAGTTAATTTCTATATTGGCTGAACAATTGTCAGAAGGGCGGGTGCGTCAGGTTGAAATCTTGGTAGATTCTCGTCCTGGTAGTATTTTGTCTTCTAGTGAACAGCCTGCAACAACTACAGCAGCTTTACAAACTGCCCCTATACCTCAACCTGCTAAGGTTAAAAGAGAACCGGAACCTGTTGCTAATACTGCAGTTAGTTCTAAGAGTTCAAAAAAGAAACTATTAAATCCACAATTTACTTTTTCACTATTTGTTGAAGGCCGTTCTAACCAAATGGCAGCAGAAACCTGTAGAAAAGTATTAACACAGTTAGGTGCTTCTCAACATAACCCTTTGTTTTTATATGGTCCGACAGGTCTAGGTAAGACTCACTTAATGCAAGCAGTTGGTAATGCCCTACTGCAAGCGAAGCCGAATGCAAGAGTCATGTATATGACTTCAGAAAGTTTTGTACAAGATTTTGTGAGCTCATTACAAAAAGGAAAGGTAGAAGAGTTTAAGAAAAATTGCCGTTCTTTAGACTTGTTATTAGTAGATGATATTCATCTTTTGGCAGGAAAAGAAGCAAGTCTCGTTGAATTCTTCTATACATTTAATGCCTTACTTGATGAATCTAAACAAATTATTTTAACGTCTGATCGATATCCTAAAGAATTAACAGAACTTGATCCTCGATTGGTTTCTCGTTTTTCCTGGGGGCTATCAGTAGGTGTTGAACCACCTGATATTGAAACTCGAATCGAAATTCTGCTTAAAAAAGCTGAAAATAGTGGCGTTGATTTACCTAGAAACTGTGCGTTGTTTATTGCCCAACAAGTCGTAGCGAACGTACGTGAACTTGAGGGCGCACTGAATAAAGTTGTCGCAATTTCACGTTTTAAAGGTGCTCCAATTGACCTGGATGTCGTACGGGAATCTTTAAAAGATGTTTTAGCGATCCGTGCTCGTACAATTAGTGTAGAAAATATCCAGCGTGTAGTGAGTGAATATTTCCGAATTCCATTAAAAGAGCTGGTAGGTCCAAAGCGTACCCGAATTTATGCTCGACCACGTCAGTTGGCGATGGGGCTTGCCCGTGAATTAACGGGGGATAGTTTTCCTGAAATTGGAATGGCTTTTGGTGGGCGTGATCACAGTACAGTGATGCATGCTTGTGAAAAAGTCGTC'\n",
    "\n",
    "conteo_t = secuencia.count('T')\n",
    "print(f\"Aparecen {conteo_t} T\")"
   ]
  },
  {
   "cell_type": "code",
   "execution_count": 36,
   "id": "c1d856da-ef12-45c9-883c-4b86f47a13c2",
   "metadata": {},
   "outputs": [
    {
     "data": {
      "text/plain": [
       "793"
      ]
     },
     "execution_count": 36,
     "metadata": {},
     "output_type": "execute_result"
    }
   ],
   "source": [
    "conteo = conteo_a + conteo_t\n",
    "conteo"
   ]
  },
  {
   "cell_type": "markdown",
   "id": "98096e73",
   "metadata": {},
   "source": [
    "#### 5.- Escribe una funcion que calcule el porcentaje de un nucleotido de una secuencia y que examine la entrada para comprobar que se ha introducido un nucleotido de los cuatro tipos que hay (A, T, G o C). Devuelve el resultado con un decimal. Por ultimo comprueba que tu codigo funciona con las siguientes *assertions*. (1 pto)"
   ]
  },
  {
   "cell_type": "code",
   "execution_count": 87,
   "id": "ab472b72-b5fb-40f6-b93a-744a5f99c86e",
   "metadata": {
    "scrolled": true
   },
   "outputs": [
    {
     "name": "stdin",
     "output_type": "stream",
     "text": [
      "Elige una letra entre A, T, G, C:  A\n"
     ]
    },
    {
     "name": "stdout",
     "output_type": "stream",
     "text": [
      "El porcentaje de 'A' en la secuencia es 29.2%\n"
     ]
    },
    {
     "name": "stdin",
     "output_type": "stream",
     "text": [
      "Elige una letra entre A, T, G, C:  c\n"
     ]
    },
    {
     "name": "stdout",
     "output_type": "stream",
     "text": [
      "El porcentaje de 'C' en la secuencia es 18.3%\n"
     ]
    },
    {
     "name": "stdin",
     "output_type": "stream",
     "text": [
      "Elige una letra entre A, T, G, C:  G\n"
     ]
    },
    {
     "name": "stdout",
     "output_type": "stream",
     "text": [
      "El porcentaje de 'G' en la secuencia es 22.0%\n"
     ]
    },
    {
     "name": "stdin",
     "output_type": "stream",
     "text": [
      "Elige una letra entre A, T, G, C:  T\n"
     ]
    },
    {
     "name": "stdout",
     "output_type": "stream",
     "text": [
      "El porcentaje de 'T' en la secuencia es 30.5%\n",
      "Ya se han calculado los porcentajes de todas las bases\n"
     ]
    }
   ],
   "source": [
    "secuencia = 'ATGCTTTGGACAGACTGCTTAACTCGCTTGCGACAAGAGCTCTCTGATAACGTCTTTGCGATGTGGATTCGCCCTTTAGTAGCTGAAGAAGTAGAGGGGATACTACGTCTCTATGCTCCTAATCCTTATTGGACGCGTTATATTCAAGAGAATCATTTAGAGTTAATTTCTATATTGGCTGAACAATTGTCAGAAGGGCGGGTGCGTCAGGTTGAAATCTTGGTAGATTCTCGTCCTGGTAGTATTTTGTCTTCTAGTGAACAGCCTGCAACAACTACAGCAGCTTTACAAACTGCCCCTATACCTCAACCTGCTAAGGTTAAAAGAGAACCGGAACCTGTTGCTAATACTGCAGTTAGTTCTAAGAGTTCAAAAAAGAAACTATTAAATCCACAATTTACTTTTTCACTATTTGTTGAAGGCCGTTCTAACCAAATGGCAGCAGAAACCTGTAGAAAAGTATTAACACAGTTAGGTGCTTCTCAACATAACCCTTTGTTTTTATATGGTCCGACAGGTCTAGGTAAGACTCACTTAATGCAAGCAGTTGGTAATGCCCTACTGCAAGCGAAGCCGAATGCAAGAGTCATGTATATGACTTCAGAAAGTTTTGTACAAGATTTTGTGAGCTCATTACAAAAAGGAAAGGTAGAAGAGTTTAAGAAAAATTGCCGTTCTTTAGACTTGTTATTAGTAGATGATATTCATCTTTTGGCAGGAAAAGAAGCAAGTCTCGTTGAATTCTTCTATACATTTAATGCCTTACTTGATGAATCTAAACAAATTATTTTAACGTCTGATCGATATCCTAAAGAATTAACAGAACTTGATCCTCGATTGGTTTCTCGTTTTTCCTGGGGGCTATCAGTAGGTGTTGAACCACCTGATATTGAAACTCGAATCGAAATTCTGCTTAAAAAAGCTGAAAATAGTGGCGTTGATTTACCTAGAAACTGTGCGTTGTTTATTGCCCAACAAGTCGTAGCGAACGTACGTGAACTTGAGGGCGCACTGAATAAAGTTGTCGCAATTTCACGTTTTAAAGGTGCTCCAATTGACCTGGATGTCGTACGGGAATCTTTAAAAGATGTTTTAGCGATCCGTGCTCGTACAATTAGTGTAGAAAATATCCAGCGTGTAGTGAGTGAATATTTCCGAATTCCATTAAAAGAGCTGGTAGGTCCAAAGCGTACCCGAATTTATGCTCGACCACGTCAGTTGGCGATGGGGCTTGCCCGTGAATTAACGGGGGATAGTTTTCCTGAAATTGGAATGGCTTTTGGTGGGCGTGATCACAGTACAGTGATGCATGCTTGTGAAAAAGTCGTC'\n",
    "\n",
    "procesadas = set()\n",
    "\n",
    "def porcentaje(caracter, secuencia):\n",
    "    conteo = secuencia.count(caracter)\n",
    "    porcentaje = (conteo / len(secuencia)) * 100\n",
    "    return round(porcentaje, 1)\n",
    "\n",
    "while True:\n",
    "    intento = input(\"Elige una letra entre A, T, G, C: \").upper()\n",
    "    \n",
    "    if intento not in ('A', 'T', 'C', 'G'):\n",
    "        print('Letra incorrecta. Por favor, elige A, T, G o C.')\n",
    "        continue\n",
    "\n",
    "    if intento in procesadas:\n",
    "        print(f\"Ya has calculado el porcentaje de '{intento}'.\")\n",
    "        continue\n",
    "\n",
    "    porcentaje_base = porcentaje(intento, secuencia)\n",
    "    print(f\"El porcentaje de '{intento}' en la secuencia es {porcentaje_base:.1f}%\")\n",
    "    procesadas.add(intento)  # Marcamos la base como procesada\n",
    "\n",
    "    if len(procesadas) == 4:\n",
    "        print(\"Ya se han calculado los porcentajes de todas las bases\")\n",
    "        break"
   ]
  },
  {
   "cell_type": "code",
   "execution_count": 89,
   "id": "96ab46e5-8c54-4257-aa27-479aa4497d7a",
   "metadata": {},
   "outputs": [],
   "source": [
    "assert porcentaje_a == 29.2\n",
    "assert porcentaje_t == 30.5\n",
    "assert porcentaje_g == 22.0\n",
    "assert porcentaje_c == 18.3"
   ]
  },
  {
   "cell_type": "markdown",
   "id": "a28888dd",
   "metadata": {},
   "source": [
    "#### 6.- Devuelve la secuencia de ARN que surgiría a partir de la siguiente secuencia. Recuerda que la secuencia de ARN resultante tiene que ser complementaria a la de ADN y además, hay que cambiar un nucleótido. (1 pto)"
   ]
  },
  {
   "cell_type": "code",
   "execution_count": 78,
   "id": "f9c691c5-f274-4310-aaac-1ee3a9f0e028",
   "metadata": {},
   "outputs": [
    {
     "name": "stdout",
     "output_type": "stream",
     "text": [
      "UACGAAACCUGUCUGACGAAUUGAGCGAACGCUGUUCUCGAGAGACUAUUGCAGAAACGCUACACCUAAGCGGGAAAUCAUCGACUUCUUCAUCUCCCCUAUGAUGCAGAGAUACGAGGAUUAGGAAUAACCUGCGCAAUAUAAGUUCUCUUAGUAAAUCUCAAUUAAAGAUAUAACCGACUUGUUAACAGUCUUCCCGCCCACGCAGUCCAACUUUAGAACCAUCUAAGAGCAGGACCAUCAUAAAACAGAAGAUCACUUGUCGGACGUUGUUGAUGUCGUCGAAAUGUUUGACGGGGAUAUGGAGUUGGACGAUUCCAAUUUUCUCUUGGCCUUGGACAACGAUUAUGACGUCAAUCAAGAUUCUCAAGUUUUUUCUUUGAUAAUUUAGGUGUUAAAUGAAAAAGUGAUAAACAACUUCCGGCAAGAUUGGUUUACCGUCGUCUUUGGACAUCUUUUCAUAAUUGUGUCAAUCCACGAAGAGUUGUAUUGGGAAACAAAAAUAUACCAGGCUGUCCAGAUCCAUUCUGAGUGAAUUACGUUCGUCAACCAUUACGGGAUGACGUUCGCUUCGGCUUACGUUCUCAGUACAUAUACUGAAGUCUUUCAAAACAUGUUCUAAAACACUCGAGUAAUGUUUUUCCUUUCCAUCUUCUCAAAUUCUUUUUAACGGCAAGAAAUCUGAACAAUAAUCAUCUACUAUAAGUAGAAAACCGUCCUUUUCUUCGUUCAGAGCAACUUAAGAAGAUAUGUAAAUUACGGAAUGAACUACUUAGAUUUGUUUAAUAAAAUUGCAGACUAGCUAUAGGAUUUCUUAAUUGUCUUGAACUAGGAGCUAACCAAAGAGCAAAAAGGACCCCCGAUAGUCAUCCACAACUUGGUGGACUAUAACUUUGAGCUUAGCUUUAAGACGAAUUUUUUCGACUUUUAUCACCGCAACUAAAUGGAUCUUUGACACGCAACAAAUAACGGGUUGUUCAGCAUCGCUUGCAUGCACUUGAACUCCCGCGUGACUUAUUUCAACAGCGUUAAAGUGCAAAAUUUCCACGAGGUUAACUGGACCUACAGCAUGCCCUUAGAAAUUUUCUACAAAAUCGCUAGGCACGAGCAUGUUAAUCACAUCUUUUAUAGGUCGCACAUCACUCACUUAUAAAGGCUUAAGGUAAUUUUCUCGACCAUCCAGGUUUCGCAUGGGCUUAAAUACGAGCUGGUGCAGUCAACCGCUACCCCGAACGGGCACUUAAUUGCCCCCUAUCAAAAGGACUUUAACCUUACCGAAAACCACCCGCACUAGUGUCAUGUCACUACGUACGAACACUUUUUCAGCAG\n"
     ]
    }
   ],
   "source": [
    "secuencia = 'ATGCTTTGGACAGACTGCTTAACTCGCTTGCGACAAGAGCTCTCTGATAACGTCTTTGCGATGTGGATTCGCCCTTTAGTAGCTGAAGAAGTAGAGGGGATACTACGTCTCTATGCTCCTAATCCTTATTGGACGCGTTATATTCAAGAGAATCATTTAGAGTTAATTTCTATATTGGCTGAACAATTGTCAGAAGGGCGGGTGCGTCAGGTTGAAATCTTGGTAGATTCTCGTCCTGGTAGTATTTTGTCTTCTAGTGAACAGCCTGCAACAACTACAGCAGCTTTACAAACTGCCCCTATACCTCAACCTGCTAAGGTTAAAAGAGAACCGGAACCTGTTGCTAATACTGCAGTTAGTTCTAAGAGTTCAAAAAAGAAACTATTAAATCCACAATTTACTTTTTCACTATTTGTTGAAGGCCGTTCTAACCAAATGGCAGCAGAAACCTGTAGAAAAGTATTAACACAGTTAGGTGCTTCTCAACATAACCCTTTGTTTTTATATGGTCCGACAGGTCTAGGTAAGACTCACTTAATGCAAGCAGTTGGTAATGCCCTACTGCAAGCGAAGCCGAATGCAAGAGTCATGTATATGACTTCAGAAAGTTTTGTACAAGATTTTGTGAGCTCATTACAAAAAGGAAAGGTAGAAGAGTTTAAGAAAAATTGCCGTTCTTTAGACTTGTTATTAGTAGATGATATTCATCTTTTGGCAGGAAAAGAAGCAAGTCTCGTTGAATTCTTCTATACATTTAATGCCTTACTTGATGAATCTAAACAAATTATTTTAACGTCTGATCGATATCCTAAAGAATTAACAGAACTTGATCCTCGATTGGTTTCTCGTTTTTCCTGGGGGCTATCAGTAGGTGTTGAACCACCTGATATTGAAACTCGAATCGAAATTCTGCTTAAAAAAGCTGAAAATAGTGGCGTTGATTTACCTAGAAACTGTGCGTTGTTTATTGCCCAACAAGTCGTAGCGAACGTACGTGAACTTGAGGGCGCACTGAATAAAGTTGTCGCAATTTCACGTTTTAAAGGTGCTCCAATTGACCTGGATGTCGTACGGGAATCTTTAAAAGATGTTTTAGCGATCCGTGCTCGTACAATTAGTGTAGAAAATATCCAGCGTGTAGTGAGTGAATATTTCCGAATTCCATTAAAAGAGCTGGTAGGTCCAAAGCGTACCCGAATTTATGCTCGACCACGTCAGTTGGCGATGGGGCTTGCCCGTGAATTAACGGGGGATAGTTTTCCTGAAATTGGAATGGCTTTTGGTGGGCGTGATCACAGTACAGTGATGCATGCTTGTGAAAAAGTCGTC'\n",
    "\n",
    "complementaria = []\n",
    "\n",
    "for base in secuencia:\n",
    "    if base == 'A':\n",
    "        complementaria.append('U')\n",
    "    elif base == 'T':\n",
    "        complementaria.append('A')\n",
    "    elif base == 'C':\n",
    "        complementaria.append('G')\n",
    "    elif base == 'G':\n",
    "        complementaria.append('C')\n",
    "\n",
    "complementaria = ''.join(complementaria)\n",
    "\n",
    "print(complementaria)"
   ]
  },
  {
   "cell_type": "markdown",
   "id": "9f94d5dd",
   "metadata": {},
   "source": [
    "#### 7.- Realiza una función que realice una digestión con las siguientes enzimas de restricción en nuestra secuencia. La función tiene que devolver la siguiente información: (2 pto)\n",
    "1. Enzimas que tienen sitios de corte en la secuencia y posición (o posiciones de corte)\n",
    "2. Enzimas que no tienen sitios de corte (si las hay)\n",
    "3. Resultado de la digestión: los fragmentos resultantes de nuestra secuencia\n",
    "4. Indicar número y tamaño de cada fragmento"
   ]
  },
  {
   "cell_type": "code",
   "execution_count": 80,
   "id": "1cab833c",
   "metadata": {},
   "outputs": [],
   "source": [
    "enzR = {\n",
    "    'HindIII' : 'A*AGCTT',\n",
    "    'BamHI' : 'G*GATCC',\n",
    "    'AluI' : 'AG*CT',\n",
    "    'Sau3AI' : '*GATC',\n",
    "    'EcoRI' : 'G*AATTC'\n",
    "}"
   ]
  },
  {
   "cell_type": "code",
   "execution_count": 82,
   "id": "3f5f7945-1d56-4e95-b9ce-0dd559e0334b",
   "metadata": {},
   "outputs": [
    {
     "name": "stdout",
     "output_type": "stream",
     "text": [
      "Enzimas con sitios de corte y sus posiciones:\n",
      "AluI: [39, 82, 283, 629, 922, 1173]\n",
      "Sau3AI: [798, 828, 1097, 1290]\n",
      "EcoRI: [739, 1157]\n",
      "\n",
      "Enzimas sin sitios de corte:\n",
      "HindIII\n",
      "BamHI\n",
      "\n",
      "Fragmentos resultantes de la digestión:\n",
      "ATGCTTTGGACAGACTGCTTAACTCGCTTGCGACAAGAG\n",
      "CTCTCTGATAACGTCTTTGCGATGTGGATTCGCCCTTTAGTAG\n",
      "CTGAAGAAGTAGAGGGGATACTACGTCTCTATGCTCCTAATCCTTATTGGACGCGTTATATTCAAGAGAATCATTTAGAGTTAATTTCTATATTGGCTGAACAATTGTCAGAAGGGCGGGTGCGTCAGGTTGAAATCTTGGTAGATTCTCGTCCTGGTAGTATTTTGTCTTCTAGTGAACAGCCTGCAACAACTACAGCAG\n",
      "CTTTACAAACTGCCCCTATACCTCAACCTGCTAAGGTTAAAAGAGAACCGGAACCTGTTGCTAATACTGCAGTTAGTTCTAAGAGTTCAAAAAAGAAACTATTAAATCCACAATTTACTTTTTCACTATTTGTTGAAGGCCGTTCTAACCAAATGGCAGCAGAAACCTGTAGAAAAGTATTAACACAGTTAGGTGCTTCTCAACATAACCCTTTGTTTTTATATGGTCCGACAGGTCTAGGTAAGACTCACTTAATGCAAGCAGTTGGTAATGCCCTACTGCAAGCGAAGCCGAATGCAAGAGTCATGTATATGACTTCAGAAAGTTTTGTACAAGATTTTGTGAG\n",
      "CTCATTACAAAAAGGAAAGGTAGAAGAGTTTAAGAAAAATTGCCGTTCTTTAGACTTGTTATTAGTAGATGATATTCATCTTTTGGCAGGAAAAGAAGCAAGTCTCGTTG\n",
      "AATTCTTCTATACATTTAATGCCTTACTTGATGAATCTAAACAAATTATTTTAACGTCT\n",
      "GATCGATATCCTAAAGAATTAACAGAACTT\n",
      "GATCCTCGATTGGTTTCTCGTTTTTCCTGGGGGCTATCAGTAGGTGTTGAACCACCTGATATTGAAACTCGAATCGAAATTCTGCTTAAAAAAG\n",
      "CTGAAAATAGTGGCGTTGATTTACCTAGAAACTGTGCGTTGTTTATTGCCCAACAAGTCGTAGCGAACGTACGTGAACTTGAGGGCGCACTGAATAAAGTTGTCGCAATTTCACGTTTTAAAGGTGCTCCAATTGACCTGGATGTCGTACGGGAATCTTTAAAAGATGTTTTAGC\n",
      "GATCCGTGCTCGTACAATTAGTGTAGAAAATATCCAGCGTGTAGTGAGTGAATATTTCCG\n",
      "AATTCCATTAAAAGAG\n",
      "CTGGTAGGTCCAAAGCGTACCCGAATTTATGCTCGACCACGTCAGTTGGCGATGGGGCTTGCCCGTGAATTAACGGGGGATAGTTTTCCTGAAATTGGAATGGCTTTTGGTGGGCGT\n",
      "GATCACAGTACAGTGATGCATGCTTGTGAAAAAGTCGTC\n",
      "\n",
      "Número de fragmentos: 13\n",
      "Tamaños de los fragmentos: [39, 43, 201, 346, 110, 59, 30, 94, 175, 60, 16, 117, 39]\n"
     ]
    }
   ],
   "source": [
    "def digestion_adn(secuencia_adn, enzimas_restriccion):\n",
    "    enzimas_con_cortes = []\n",
    "    enzimas_sin_cortes = []\n",
    "    fragmentos_resultantes = []\n",
    "\n",
    "    for enzima, sitio_corte in enzimas_restriccion.items():\n",
    "        sitio = sitio_corte.replace('*', '')\n",
    "        posicion_corte = sitio_corte.find('*')\n",
    "        posiciones = []\n",
    "\n",
    "        inicio = 0\n",
    "        while inicio < len(secuencia_adn):\n",
    "            posicion = secuencia_adn.find(sitio, inicio)\n",
    "            if posicion == -1:\n",
    "                break\n",
    "            posiciones.append(posicion + posicion_corte)\n",
    "            inicio = posicion + 1\n",
    "\n",
    "        if posiciones:\n",
    "            enzimas_con_cortes.append((enzima, posiciones))\n",
    "        else:\n",
    "            enzimas_sin_cortes.append(enzima)\n",
    "\n",
    "    todas_posiciones_corte = sorted([pos for _, pos_list in enzimas_con_cortes for pos in pos_list])\n",
    "    inicio = 0\n",
    "    for posicion in todas_posiciones_corte:\n",
    "        fragmentos_resultantes.append(secuencia_adn[inicio:posicion])\n",
    "        inicio = posicion\n",
    "    fragmentos_resultantes.append(secuencia_adn[inicio:])\n",
    "\n",
    "    numero_fragmentos = len(fragmentos_resultantes)\n",
    "    tamanos_fragmentos = [len(fragmento) for fragmento in fragmentos_resultantes]\n",
    "\n",
    "    resultado = {\n",
    "        \"enzimas_con_cortes\": enzimas_con_cortes,\n",
    "        \"enzimas_sin_cortes\": enzimas_sin_cortes,\n",
    "        \"fragmentos_resultantes\": fragmentos_resultantes,\n",
    "        \"numero_fragmentos\": numero_fragmentos,\n",
    "        \"tamanos_fragmentos\": tamanos_fragmentos\n",
    "    }\n",
    "\n",
    "    return resultado\n",
    "\n",
    "secuencia_adn = \"ATGCTTTGGACAGACTGCTTAACTCGCTTGCGACAAGAGCTCTCTGATAACGTCTTTGCGATGTGGATTCGCCCTTTAGTAGCTGAAGAAGTAGAGGGGATACTACGTCTCTATGCTCCTAATCCTTATTGGACGCGTTATATTCAAGAGAATCATTTAGAGTTAATTTCTATATTGGCTGAACAATTGTCAGAAGGGCGGGTGCGTCAGGTTGAAATCTTGGTAGATTCTCGTCCTGGTAGTATTTTGTCTTCTAGTGAACAGCCTGCAACAACTACAGCAGCTTTACAAACTGCCCCTATACCTCAACCTGCTAAGGTTAAAAGAGAACCGGAACCTGTTGCTAATACTGCAGTTAGTTCTAAGAGTTCAAAAAAGAAACTATTAAATCCACAATTTACTTTTTCACTATTTGTTGAAGGCCGTTCTAACCAAATGGCAGCAGAAACCTGTAGAAAAGTATTAACACAGTTAGGTGCTTCTCAACATAACCCTTTGTTTTTATATGGTCCGACAGGTCTAGGTAAGACTCACTTAATGCAAGCAGTTGGTAATGCCCTACTGCAAGCGAAGCCGAATGCAAGAGTCATGTATATGACTTCAGAAAGTTTTGTACAAGATTTTGTGAGCTCATTACAAAAAGGAAAGGTAGAAGAGTTTAAGAAAAATTGCCGTTCTTTAGACTTGTTATTAGTAGATGATATTCATCTTTTGGCAGGAAAAGAAGCAAGTCTCGTTGAATTCTTCTATACATTTAATGCCTTACTTGATGAATCTAAACAAATTATTTTAACGTCTGATCGATATCCTAAAGAATTAACAGAACTTGATCCTCGATTGGTTTCTCGTTTTTCCTGGGGGCTATCAGTAGGTGTTGAACCACCTGATATTGAAACTCGAATCGAAATTCTGCTTAAAAAAGCTGAAAATAGTGGCGTTGATTTACCTAGAAACTGTGCGTTGTTTATTGCCCAACAAGTCGTAGCGAACGTACGTGAACTTGAGGGCGCACTGAATAAAGTTGTCGCAATTTCACGTTTTAAAGGTGCTCCAATTGACCTGGATGTCGTACGGGAATCTTTAAAAGATGTTTTAGCGATCCGTGCTCGTACAATTAGTGTAGAAAATATCCAGCGTGTAGTGAGTGAATATTTCCGAATTCCATTAAAAGAGCTGGTAGGTCCAAAGCGTACCCGAATTTATGCTCGACCACGTCAGTTGGCGATGGGGCTTGCCCGTGAATTAACGGGGGATAGTTTTCCTGAAATTGGAATGGCTTTTGGTGGGCGTGATCACAGTACAGTGATGCATGCTTGTGAAAAAGTCGTC\"\n",
    "\n",
    "enzimas_restriccion = {\n",
    "    'HindIII': 'A*AGCTT',\n",
    "    'BamHI': 'G*GATCC',\n",
    "    'AluI': 'AG*CT',\n",
    "    'Sau3AI': '*GATC',\n",
    "    'EcoRI': 'G*AATTC'\n",
    "}\n",
    "\n",
    "resultado_digestion = digestion_adn(secuencia_adn, enzimas_restriccion)\n",
    "\n",
    "print(\"Enzimas con sitios de corte y sus posiciones:\")\n",
    "for enzima, posiciones in resultado_digestion[\"enzimas_con_cortes\"]:\n",
    "    print(f\"{enzima}: {posiciones}\")\n",
    "\n",
    "print(\"\\nEnzimas sin sitios de corte:\")\n",
    "for enzima in resultado_digestion[\"enzimas_sin_cortes\"]:\n",
    "    print(enzima)\n",
    "\n",
    "print(\"\\nFragmentos resultantes de la digestión:\")\n",
    "for fragmento in resultado_digestion[\"fragmentos_resultantes\"]:\n",
    "    print(fragmento)\n",
    "\n",
    "print(\"\\nNúmero de fragmentos:\", resultado_digestion[\"numero_fragmentos\"])\n",
    "print(\"Tamaños de los fragmentos:\", resultado_digestion[\"tamanos_fragmentos\"])"
   ]
  },
  {
   "cell_type": "markdown",
   "id": "cae3c937",
   "metadata": {},
   "source": [
    "#### 8.- Realiza una función que mediante la introducción de una secuencia de ADN devuelva lo siguiente: (2pto)\n",
    "1. La secuencia traducida de proteína\n",
    "2. La longitud de la secuencia de ADN original y la longitud de la secuencia de proteínas final\n",
    "3. El porcentaje de aminoácidos aromáticos (en conjunto y por separado)\n"
   ]
  },
  {
   "cell_type": "code",
   "execution_count": 85,
   "id": "91e20d57-e70c-4dd7-af4d-a666129f81aa",
   "metadata": {},
   "outputs": [
    {
     "name": "stdout",
     "output_type": "stream",
     "text": [
      "Secuencia de proteína: MLWTDCLTRLRQELSDNVFAMWIRPLVAEEVEGILRLYAPNPYWTRYIQENHLELISILAEQLSEGRVRQVEILVDSRPGSILSSSEQPATTTAALQTAPIPQPAKVKREPEPVANTAVSSKSSKKKLLNPQFTFSLFVEGRSNQMAAETCRKVLTQLGASQHNPLFLYGPTGLGKTHLMQAVGNALLQAKPNARVMYMTSESFVQDFVSSLQKGKVEEFKKNCRSLDLLLVDDIHLLAGKEASLVEFFYTFNALLDESKQIILTSDRYPKELTELDPRLVSRFSWGLSVGVEPPDIETRIEILLKKAENSGVDLPRNCALFIAQQVVANVRELEGALNKVVAISRFKGAPIDLDVVRESLKDVLAIRARTISVENIQRVVSEYFRIPLKELVGPKRTRIYARPRQLAMGLARELTGDSFPEIGMAFGGRDHSTVMHACEKVV\n",
      "Longitud de la secuencia de ADN: 1329\n",
      "Longitud de la secuencia de proteína: 443\n",
      "Porcentaje total de aminoácidos aromáticos: 6.77%\n",
      "Porcentaje de Fenilalanina (F): 3.84%\n",
      "Porcentaje de Tirosina (Y): 2.03%\n",
      "Porcentaje de Triptófano (W): 0.90%\n"
     ]
    }
   ],
   "source": [
    "codones = {\n",
    "    'TTT': 'F', 'TTC': 'F', 'TTA': 'L', 'TTG': 'L',\n",
    "    'CTT': 'L', 'CTC': 'L', 'CTA': 'L', 'CTG': 'L',\n",
    "    'ATT': 'I', 'ATC': 'I', 'ATA': 'I', 'ATG': 'M',\n",
    "    'GTT': 'V', 'GTC': 'V', 'GTA': 'V', 'GTG': 'V',\n",
    "    'TCT': 'S', 'TCC': 'S', 'TCA': 'S', 'TCG': 'S',\n",
    "    'CCT': 'P', 'CCC': 'P', 'CCA': 'P', 'CCG': 'P',\n",
    "    'ACT': 'T', 'ACC': 'T', 'ACA': 'T', 'ACG': 'T',\n",
    "    'GCT': 'A', 'GCC': 'A', 'GCA': 'A', 'GCG': 'A',\n",
    "    'TAT': 'Y', 'TAC': 'Y', 'TAA': '*', 'TAG': '*',\n",
    "    'CAT': 'H', 'CAC': 'H', 'CAA': 'Q', 'CAG': 'Q',\n",
    "    'AAT': 'N', 'AAC': 'N', 'AAA': 'K', 'AAG': 'K',\n",
    "    'GAT': 'D', 'GAC': 'D', 'GAA': 'E', 'GAG': 'E',\n",
    "    'TGT': 'C', 'TGC': 'C', 'TGA': '*', 'TGG': 'W',\n",
    "    'CGT': 'R', 'CGC': 'R', 'CGA': 'R', 'CGG': 'R',\n",
    "    'AGT': 'S', 'AGC': 'S', 'AGA': 'R', 'AGG': 'R',\n",
    "    'GGT': 'G', 'GGC': 'G', 'GGA': 'G', 'GGG': 'G'\n",
    "}\n",
    "\n",
    "def analizar_secuencia_adn(secuencia_adn):\n",
    "    secuencia_proteina = \"\"\n",
    "    for i in range(0, len(secuencia_adn) - 2, 3):\n",
    "        codon = secuencia_adn[i:i + 3]\n",
    "        aminoacido = codones.get(codon, '')\n",
    "        if aminoacido == '*':  \n",
    "            break\n",
    "        secuencia_proteina += aminoacido\n",
    "\n",
    "    longitud_adn = len(secuencia_adn)\n",
    "    longitud_proteina = len(secuencia_proteina)\n",
    "\n",
    "    aromáticos = {'F': 0, 'Y': 0, 'W': 0}\n",
    "    total_aromáticos = 0\n",
    "\n",
    "    for aa in secuencia_proteina:\n",
    "        if aa in aromáticos:\n",
    "            aromáticos[aa] += 1\n",
    "            total_aromáticos += 1\n",
    "\n",
    "    porcentaje_total_aromáticos = (total_aromáticos / longitud_proteina) * 100 if longitud_proteina > 0 else 0\n",
    "    porcentaje_fenilalanina = (aromáticos['F'] / longitud_proteina) * 100 if longitud_proteina > 0 else 0\n",
    "    porcentaje_tirosina = (aromáticos['Y'] / longitud_proteina) * 100 if longitud_proteina > 0 else 0\n",
    "    porcentaje_triptofano = (aromáticos['W'] / longitud_proteina) * 100 if longitud_proteina > 0 else 0\n",
    "\n",
    "    print(\"Secuencia de proteína:\", secuencia_proteina)\n",
    "    print(\"Longitud de la secuencia de ADN:\", longitud_adn)\n",
    "    print(\"Longitud de la secuencia de proteína:\", longitud_proteina)\n",
    "    print(f\"Porcentaje total de aminoácidos aromáticos: {porcentaje_total_aromáticos:.2f}%\")\n",
    "    print(f\"Porcentaje de Fenilalanina (F): {porcentaje_fenilalanina:.2f}%\")\n",
    "    print(f\"Porcentaje de Tirosina (Y): {porcentaje_tirosina:.2f}%\")\n",
    "    print(f\"Porcentaje de Triptófano (W): {porcentaje_triptofano:.2f}%\")\n",
    "\n",
    "secuencia_adn = 'ATGCTTTGGACAGACTGCTTAACTCGCTTGCGACAAGAGCTCTCTGATAACGTCTTTGCGATGTGGATTCGCCCTTTAGTAGCTGAAGAAGTAGAGGGGATACTACGTCTCTATGCTCCTAATCCTTATTGGACGCGTTATATTCAAGAGAATCATTTAGAGTTAATTTCTATATTGGCTGAACAATTGTCAGAAGGGCGGGTGCGTCAGGTTGAAATCTTGGTAGATTCTCGTCCTGGTAGTATTTTGTCTTCTAGTGAACAGCCTGCAACAACTACAGCAGCTTTACAAACTGCCCCTATACCTCAACCTGCTAAGGTTAAAAGAGAACCGGAACCTGTTGCTAATACTGCAGTTAGTTCTAAGAGTTCAAAAAAGAAACTATTAAATCCACAATTTACTTTTTCACTATTTGTTGAAGGCCGTTCTAACCAAATGGCAGCAGAAACCTGTAGAAAAGTATTAACACAGTTAGGTGCTTCTCAACATAACCCTTTGTTTTTATATGGTCCGACAGGTCTAGGTAAGACTCACTTAATGCAAGCAGTTGGTAATGCCCTACTGCAAGCGAAGCCGAATGCAAGAGTCATGTATATGACTTCAGAAAGTTTTGTACAAGATTTTGTGAGCTCATTACAAAAAGGAAAGGTAGAAGAGTTTAAGAAAAATTGCCGTTCTTTAGACTTGTTATTAGTAGATGATATTCATCTTTTGGCAGGAAAAGAAGCAAGTCTCGTTGAATTCTTCTATACATTTAATGCCTTACTTGATGAATCTAAACAAATTATTTTAACGTCTGATCGATATCCTAAAGAATTAACAGAACTTGATCCTCGATTGGTTTCTCGTTTTTCCTGGGGGCTATCAGTAGGTGTTGAACCACCTGATATTGAAACTCGAATCGAAATTCTGCTTAAAAAAGCTGAAAATAGTGGCGTTGATTTACCTAGAAACTGTGCGTTGTTTATTGCCCAACAAGTCGTAGCGAACGTACGTGAACTTGAGGGCGCACTGAATAAAGTTGTCGCAATTTCACGTTTTAAAGGTGCTCCAATTGACCTGGATGTCGTACGGGAATCTTTAAAAGATGTTTTAGCGATCCGTGCTCGTACAATTAGTGTAGAAAATATCCAGCGTGTAGTGAGTGAATATTTCCGAATTCCATTAAAAGAGCTGGTAGGTCCAAAGCGTACCCGAATTTATGCTCGACCACGTCAGTTGGCGATGGGGCTTGCCCGTGAATTAACGGGGGATAGTTTTCCTGAAATTGGAATGGCTTTTGGTGGGCGTGATCACAGTACAGTGATGCATGCTTGTGAAAAAGTCGTC'\n",
    "\n",
    "analizar_secuencia_adn(secuencia_adn)"
   ]
  },
  {
   "cell_type": "code",
   "execution_count": null,
   "id": "858fcb74-b455-440b-8d2c-2337e9d70113",
   "metadata": {},
   "outputs": [],
   "source": []
  }
 ],
 "metadata": {
  "kernelspec": {
   "display_name": "Python 3 (ipykernel)",
   "language": "python",
   "name": "python3"
  },
  "language_info": {
   "codemirror_mode": {
    "name": "ipython",
    "version": 3
   },
   "file_extension": ".py",
   "mimetype": "text/x-python",
   "name": "python",
   "nbconvert_exporter": "python",
   "pygments_lexer": "ipython3",
   "version": "3.12.4"
  }
 },
 "nbformat": 4,
 "nbformat_minor": 5
}
